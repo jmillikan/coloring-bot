{
 "cells": [
  {
   "cell_type": "code",
   "execution_count": 1,
   "metadata": {},
   "outputs": [],
   "source": [
    "import drawing\n",
    "import os\n",
    "import tempfile\n",
    "import boto3"
   ]
  },
  {
   "cell_type": "code",
   "execution_count": 2,
   "metadata": {},
   "outputs": [
    {
     "data": {
      "text/plain": [
       "'/tmp/tmpr3u4c65e'"
      ]
     },
     "execution_count": 2,
     "metadata": {},
     "output_type": "execute_result"
    }
   ],
   "source": [
    "tmp = tempfile.mkdtemp(); tmp"
   ]
  },
  {
   "cell_type": "code",
   "execution_count": 8,
   "metadata": {},
   "outputs": [],
   "source": [
    "imagename = 'test1.png'\n",
    "in_bucket_name = 'color-bot-source-1'\n",
    "out_bucket_name = 'color-bot-dest-1'\n",
    "table_name = 'ColorBot'"
   ]
  },
  {
   "cell_type": "code",
   "execution_count": 4,
   "metadata": {},
   "outputs": [],
   "source": [
    "s3 = boto3.resource('s3')"
   ]
  },
  {
   "cell_type": "code",
   "execution_count": 15,
   "metadata": {},
   "outputs": [],
   "source": [
    "s3.Bucket(in_bucket_name).download_file(imagename, os.path.join(tmp, imagename))"
   ]
  },
  {
   "cell_type": "code",
   "execution_count": 18,
   "metadata": {},
   "outputs": [
    {
     "data": {
      "image/png": "[encoded data removed]",
      "text/plain": [
       "<PIL.Image.Image image mode=RGBA size=300x200 at 0x7F26F4A91BE0>"
      ]
     },
     "execution_count": 18,
     "metadata": {},
     "output_type": "execute_result"
    }
   ],
   "source": [
    "colored = drawing.build_colored_drawing(tmp, imagename, table_name); colored"
   ]
  },
  {
   "cell_type": "code",
   "execution_count": 10,
   "metadata": {},
   "outputs": [],
   "source": [
    "save_path = os.path.join(tmp, 'out-' + imagename)\n",
    "\n",
    "colored.save(save_path)"
   ]
  },
  {
   "cell_type": "code",
   "execution_count": 13,
   "metadata": {},
   "outputs": [],
   "source": [
    "s3.Bucket(out_bucket_name).upload_file(save_path, imagename)"
   ]
  },
  {
   "cell_type": "code",
   "execution_count": null,
   "metadata": {},
   "outputs": [],
   "source": [
    "def get_image(imagename, in_bucket_name, out_bucket_name, table_name):\n",
    "    tmp = tempfile.mkdtemp()\n",
    "    save_path = os.path.join(tmp, 'out-' + imagename)\n",
    "    \n",
    "    s3 = boto3.resource('s3')\n",
    "    \n",
    "    # Now we have i.e. test1.png in tmp/test1.png\n",
    "    s3.Bucket(in_bucket_name).download_file(imagename, os.path.join(tmp, imagename))\n",
    "    \n",
    "    # Colored is a PIL image that is the colored version of \n",
    "    colored = drawing.build_colored_drawing(tmp, imagename, table_name)\n",
    "\n",
    "    colored.save(save_path)\n",
    "    s3.Bucket(out_bucket_name).upload_file(save_path, imagename)"
   ]
  },
  {
   "cell_type": "code",
   "execution_count": 2,
   "metadata": {},
   "outputs": [
    {
     "data": {
      "text/plain": [
       "'test1.png'"
      ]
     },
     "execution_count": 2,
     "metadata": {},
     "output_type": "execute_result"
    }
   ],
   "source": [
    "drawing.get_image_name('ColorBot')"
   ]
  },
  {
   "cell_type": "code",
   "execution_count": null,
   "metadata": {},
   "outputs": [],
   "source": []
  }
 ],
 "metadata": {
  "kernelspec": {
   "display_name": "Python 3",
   "language": "python",
   "name": "python3"
  },
  "language_info": {
   "codemirror_mode": {
    "name": "ipython",
    "version": 3
   },
   "file_extension": ".py",
   "mimetype": "text/x-python",
   "name": "python",
   "nbconvert_exporter": "python",
   "pygments_lexer": "ipython3",
   "version": "3.4.3"
  }
 },
 "nbformat": 4,
 "nbformat_minor": 2
}

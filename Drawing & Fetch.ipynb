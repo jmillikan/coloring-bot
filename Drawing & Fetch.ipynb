{
 "cells": [
  {
   "cell_type": "code",
   "execution_count": 2,
   "metadata": {},
   "outputs": [],
   "source": [
    "from matplotlib.pyplot import imshow\n",
    "import numpy as np\n",
    "from PIL import Image\n",
    "import PIL.ImageDraw\n",
    "import PIL.ImageColor\n",
    "from boto3 import Session\n",
    "import boto3\n",
    "from boto3.dynamodb.conditions import Key\n",
    "from boto3 import resource\n",
    "import os.path"
   ]
  },
  {
   "cell_type": "code",
   "execution_count": 268,
   "metadata": {},
   "outputs": [],
   "source": [
    "def get_drawing(img_path):\n",
    "    pil_im = Image.open(img_path)\n",
    "    (r,g,b,a) = pil_im.split()\n",
    "    d = a.point(lambda x: 100 if x < 255 else 0)\n",
    "    #drawing_img = Image.merge('RGBA', (d,d,d,Image.new('L', d.size, color=255)))\n",
    "    drawing_img = Image.merge('RGB', (d,d,d))\n",
    "    \n",
    "    regions = []\n",
    "\n",
    "    # THis is quite side-effecty. Fill in drawing_img as we go, adding regions.\n",
    "    for x in range(drawing_img.width):\n",
    "        for y in range(drawing_img.height):\n",
    "            c = drawing_img.getpixel((x,y))\n",
    "            if c == (100,100,100):\n",
    "                PIL.ImageDraw.floodfill(drawing_img, (x,y), (255,255,255))\n",
    "                regions.append((x,y))\n",
    "                \n",
    "    return (drawing_img, regions)"
   ]
  },
  {
   "cell_type": "code",
   "execution_count": 263,
   "metadata": {},
   "outputs": [],
   "source": [
    "def fetch_regions(image_name):\n",
    "    dynamodb_resource = resource('dynamodb', 'us-west-2')\n",
    "    table = dynamodb_resource.Table('ColorBot')\n",
    "    response = table.query(\n",
    "        TableName='ColorBot',\n",
    "        KeyConditionExpression=Key('ImageName').eq(image_name))\n",
    "    \n",
    "    if response['ResponseMetadata']['HTTPStatusCode'] != 200:\n",
    "        raise Exception(\"Expected region\")\n",
    "        # TODO: Logging\n",
    "        \n",
    "    return response\n",
    "    "
   ]
  },
  {
   "cell_type": "code",
   "execution_count": 264,
   "metadata": {},
   "outputs": [],
   "source": [
    "def fill_regions(drawing, regions, items):\n",
    "    for item in items:\n",
    "        try:\n",
    "            region = int(item['Region'])\n",
    "            if region < len(regions) and region >= 0:\n",
    "                (rs, gs, bs) = item['Color'].split(',')\n",
    "                color = (int(rs), int(gs), int(bs))\n",
    "                PIL.ImageDraw.floodfill(drawing, regions[region], color)\n",
    "        except Exception as e: pass"
   ]
  },
  {
   "cell_type": "code",
   "execution_count": 265,
   "metadata": {},
   "outputs": [],
   "source": [
    "def build_colored_drawing(image_folder, image_name):\n",
    "    image_path = os.path.join(image_folder, image_name)\n",
    "    \n",
    "    (drawing, regions) = get_drawing(image_path)\n",
    "    \n",
    "    coloring = fetch_regions(image_name)\n",
    "    \n",
    "    fill_regions(drawing, regions, coloring['Items'])\n",
    "    \n",
    "    fg = Image.open(image_path)\n",
    "    \n",
    "    (bg_r, bg_g, bg_b) = drawing.split()\n",
    "    # Should just start with alpha layer... too lazy.\n",
    "    bg = Image.merge('RGBA', (r,g,b,Image.new('L', d.size, color=255)))\n",
    "    \n",
    "    bg.paste(fg, (0,0), fg)\n",
    "    \n",
    "    return bg"
   ]
  },
  {
   "cell_type": "code",
   "execution_count": 3,
   "metadata": {},
   "outputs": [],
   "source": [
    "pil_im = Image.open('test-images/test1.png')"
   ]
  },
  {
   "cell_type": "code",
   "execution_count": 140,
   "metadata": {},
   "outputs": [
    {
     "data": {
      "image/png": "[encoded data removed]",
      "text/plain": [
       "<PIL.PngImagePlugin.PngImageFile image mode=RGBA size=300x200 at 0x7FB591C21898>"
      ]
     },
     "execution_count": 140,
     "metadata": {},
     "output_type": "execute_result"
    }
   ],
   "source": [
    "pil_im"
   ]
  },
  {
   "cell_type": "code",
   "execution_count": 4,
   "metadata": {},
   "outputs": [
    {
     "data": {
      "text/plain": [
       "300"
      ]
     },
     "execution_count": 4,
     "metadata": {},
     "output_type": "execute_result"
    }
   ],
   "source": [
    "pil_im.width"
   ]
  },
  {
   "cell_type": "code",
   "execution_count": 5,
   "metadata": {},
   "outputs": [
    {
     "data": {
      "text/plain": [
       "(<PIL.Image.Image image mode=L size=300x200 at 0x7F2F83565A90>,\n",
       " <PIL.Image.Image image mode=L size=300x200 at 0x7F2F83565AC8>,\n",
       " <PIL.Image.Image image mode=L size=300x200 at 0x7F2F83565A20>,\n",
       " <PIL.Image.Image image mode=L size=300x200 at 0x7F2F83565A58>)"
      ]
     },
     "execution_count": 5,
     "metadata": {},
     "output_type": "execute_result"
    }
   ],
   "source": [
    "(r,g,b,a) = pil_im.split(); (r,g,b,a)"
   ]
  },
  {
   "cell_type": "code",
   "execution_count": 6,
   "metadata": {},
   "outputs": [],
   "source": [
    "d = a.point(lambda x: 100 if x < 255 else 0)"
   ]
  },
  {
   "cell_type": "code",
   "execution_count": 7,
   "metadata": {},
   "outputs": [
    {
     "data": {
      "text/plain": [
       "300"
      ]
     },
     "execution_count": 7,
     "metadata": {},
     "output_type": "execute_result"
    }
   ],
   "source": [
    "d.width"
   ]
  },
  {
   "cell_type": "code",
   "execution_count": 143,
   "metadata": {},
   "outputs": [],
   "source": [
    "# [drawing_bounds.getpixel((x,0)) for x in range(100)]"
   ]
  },
  {
   "cell_type": "code",
   "execution_count": 144,
   "metadata": {},
   "outputs": [
    {
     "data": {
      "text/plain": [
       "'L'"
      ]
     },
     "execution_count": 144,
     "metadata": {},
     "output_type": "execute_result"
    }
   ],
   "source": [
    "d.mode"
   ]
  },
  {
   "cell_type": "code",
   "execution_count": 145,
   "metadata": {},
   "outputs": [],
   "source": [
    "# Floodfill in PIL only works with RGB..."
   ]
  },
  {
   "cell_type": "code",
   "execution_count": 150,
   "metadata": {},
   "outputs": [
    {
     "data": {
      "image/png": "[encoded data removed]",
      "text/plain": [
       "<PIL.Image.Image image mode=RGB size=300x200 at 0x7FB591D54160>"
      ]
     },
     "execution_count": 150,
     "metadata": {},
     "output_type": "execute_result"
    }
   ],
   "source": [
    "drawing_img = Image.merge('RGB', (d,d,d)); drawing_img"
   ]
  },
  {
   "cell_type": "markdown",
   "metadata": {},
   "source": [
    "Now the floodable background is grey 100,100,100 and the lines are black 0,0,0"
   ]
  },
  {
   "cell_type": "code",
   "execution_count": 152,
   "metadata": {},
   "outputs": [],
   "source": [
    "#PIL.ImageDraw.floodfill(drawing_img, (0,0), (255,255,255))"
   ]
  },
  {
   "cell_type": "code",
   "execution_count": 153,
   "metadata": {},
   "outputs": [
    {
     "data": {
      "text/plain": [
       "[(0, 0),\n",
       " (0, 67),\n",
       " (0, 128),\n",
       " (71, 59),\n",
       " (71, 77),\n",
       " (73, 114),\n",
       " (107, 0),\n",
       " (121, 66),\n",
       " (129, 101),\n",
       " (140, 199),\n",
       " (146, 0),\n",
       " (155, 54),\n",
       " (162, 187),\n",
       " (163, 0),\n",
       " (165, 93),\n",
       " (185, 46),\n",
       " (201, 169),\n",
       " (206, 90),\n",
       " (215, 0),\n",
       " (232, 34),\n",
       " (238, 146),\n",
       " (257, 0),\n",
       " (264, 83),\n",
       " (274, 24),\n",
       " (291, 112)]"
      ]
     },
     "execution_count": 153,
     "metadata": {},
     "output_type": "execute_result"
    }
   ],
   "source": [
    "regions = []\n",
    "\n",
    "for x in range(drawing_img.width):\n",
    "    for y in range(drawing_img.height):\n",
    "        c = drawing_img.getpixel((x,y))\n",
    "        if c == (100,100,100):\n",
    "            PIL.ImageDraw.floodfill(drawing_img, (x,y), (255,255,255))\n",
    "            regions.append((x,y))\n",
    "            \n",
    "regions"
   ]
  },
  {
   "cell_type": "code",
   "execution_count": 154,
   "metadata": {},
   "outputs": [
    {
     "data": {
      "image/png": "[encoded data removed]",
      "text/plain": [
       "<PIL.Image.Image image mode=RGB size=300x200 at 0x7FB591D54160>"
      ]
     },
     "execution_count": 154,
     "metadata": {},
     "output_type": "execute_result"
    }
   ],
   "source": [
    "drawing_img"
   ]
  },
  {
   "cell_type": "markdown",
   "metadata": {},
   "source": [
    "Now in theory, drawing_img is our drawable image and we can still overlay our original image"
   ]
  },
  {
   "cell_type": "code",
   "execution_count": 291,
   "metadata": {},
   "outputs": [
    {
     "data": {
      "image/png": "[encoded data removed]",
      "text/plain": [
       "<PIL.Image.Image image mode=RGB size=300x200 at 0x7FB591D54160>"
      ]
     },
     "execution_count": 291,
     "metadata": {},
     "output_type": "execute_result"
    }
   ],
   "source": [
    "PIL.ImageDraw.floodfill(drawing_img, regions[3], PIL.ImageColor.getcolor('red', 'RGB')); drawing_img"
   ]
  },
  {
   "cell_type": "code",
   "execution_count": 157,
   "metadata": {},
   "outputs": [],
   "source": [
    "aws = Session()"
   ]
  },
  {
   "cell_type": "code",
   "execution_count": 173,
   "metadata": {},
   "outputs": [],
   "source": [
    "client = boto3.client('dynamodb', 'us-west-2')\n",
    "dynamodb_resource = resource('dynamodb', 'us-west-2')"
   ]
  },
  {
   "cell_type": "code",
   "execution_count": 174,
   "metadata": {},
   "outputs": [],
   "source": [
    "table = dynamodb_resource.Table('ColorBot')"
   ]
  },
  {
   "cell_type": "code",
   "execution_count": 289,
   "metadata": {},
   "outputs": [
    {
     "data": {
      "text/plain": [
       "{'Count': 1,\n",
       " 'Items': [{'Color': '100,220,100',\n",
       "   'ImageName': 'test1.png',\n",
       "   'Region': Decimal('3')}],\n",
       " 'ResponseMetadata': {'HTTPHeaders': {'connection': 'keep-alive',\n",
       "   'content-length': '117',\n",
       "   'content-type': 'application/x-amz-json-1.0',\n",
       "   'date': 'Mon, 05 Feb 2018 06:49:33 GMT',\n",
       "   'server': 'Server',\n",
       "   'x-amz-crc32': '560217295',\n",
       "   'x-amzn-requestid': 'AM2V5H5BGJHQLB7T5SEGVH8GPRVV4KQNSO5AEMVJF66Q9ASUAAJG'},\n",
       "  'HTTPStatusCode': 200,\n",
       "  'RequestId': 'AM2V5H5BGJHQLB7T5SEGVH8GPRVV4KQNSO5AEMVJF66Q9ASUAAJG',\n",
       "  'RetryAttempts': 0},\n",
       " 'ScannedCount': 1}"
      ]
     },
     "execution_count": 289,
     "metadata": {},
     "output_type": "execute_result"
    }
   ],
   "source": [
    "response = table.query(\n",
    "    TableName='ColorBot',\n",
    "    KeyConditionExpression=Key('ImageName').eq('test1.png'))\n",
    "response\n",
    "    "
   ]
  },
  {
   "cell_type": "code",
   "execution_count": 295,
   "metadata": {},
   "outputs": [],
   "source": [
    "response = table.put_item(Item={'ImageName': 'test1.png', 'Region': 7, 'Color': '220,100,100'})"
   ]
  },
  {
   "cell_type": "code",
   "execution_count": 301,
   "metadata": {},
   "outputs": [],
   "source": [
    "response = table.put_item(Item={'ImageName': '__CONTROL', 'Region': -1, 'CurrentImageName': 'test1.png'})"
   ]
  },
  {
   "cell_type": "code",
   "execution_count": 302,
   "metadata": {},
   "outputs": [
    {
     "data": {
      "text/plain": [
       "{'Item': {'CurrentImageName': 'test1.png',\n",
       "  'ImageName': '__CONTROL',\n",
       "  'Region': Decimal('-1')},\n",
       " 'ResponseMetadata': {'HTTPHeaders': {'connection': 'keep-alive',\n",
       "   'content-length': '97',\n",
       "   'content-type': 'application/x-amz-json-1.0',\n",
       "   'date': 'Mon, 05 Feb 2018 07:14:23 GMT',\n",
       "   'server': 'Server',\n",
       "   'x-amz-crc32': '692899097',\n",
       "   'x-amzn-requestid': 'STOUOIH5C3MO1O5M1Q8V9TAVM7VV4KQNSO5AEMVJF66Q9ASUAAJG'},\n",
       "  'HTTPStatusCode': 200,\n",
       "  'RequestId': 'STOUOIH5C3MO1O5M1Q8V9TAVM7VV4KQNSO5AEMVJF66Q9ASUAAJG',\n",
       "  'RetryAttempts': 0}}"
      ]
     },
     "execution_count": 302,
     "metadata": {},
     "output_type": "execute_result"
    }
   ],
   "source": [
    "table.get_item(Key={'ImageName': '__CONTROL', 'Region': -1})"
   ]
  },
  {
   "cell_type": "code",
   "execution_count": 182,
   "metadata": {},
   "outputs": [
    {
     "data": {
      "text/plain": [
       "['__class__',\n",
       " '__contains__',\n",
       " '__delattr__',\n",
       " '__delitem__',\n",
       " '__dir__',\n",
       " '__doc__',\n",
       " '__eq__',\n",
       " '__format__',\n",
       " '__ge__',\n",
       " '__getattribute__',\n",
       " '__getitem__',\n",
       " '__gt__',\n",
       " '__hash__',\n",
       " '__init__',\n",
       " '__iter__',\n",
       " '__le__',\n",
       " '__len__',\n",
       " '__lt__',\n",
       " '__ne__',\n",
       " '__new__',\n",
       " '__reduce__',\n",
       " '__reduce_ex__',\n",
       " '__repr__',\n",
       " '__setattr__',\n",
       " '__setitem__',\n",
       " '__sizeof__',\n",
       " '__str__',\n",
       " '__subclasshook__',\n",
       " 'clear',\n",
       " 'copy',\n",
       " 'fromkeys',\n",
       " 'get',\n",
       " 'items',\n",
       " 'keys',\n",
       " 'pop',\n",
       " 'popitem',\n",
       " 'setdefault',\n",
       " 'update',\n",
       " 'values']"
      ]
     },
     "execution_count": 182,
     "metadata": {},
     "output_type": "execute_result"
    }
   ],
   "source": [
    "dir(response)"
   ]
  },
  {
   "cell_type": "code",
   "execution_count": 189,
   "metadata": {},
   "outputs": [
    {
     "data": {
      "text/plain": [
       "200"
      ]
     },
     "execution_count": 189,
     "metadata": {},
     "output_type": "execute_result"
    }
   ],
   "source": [
    "response['ResponseMetadata']['HTTPStatusCode']"
   ]
  },
  {
   "cell_type": "code",
   "execution_count": 190,
   "metadata": {},
   "outputs": [
    {
     "data": {
      "image/png": "[encoded data removed]",
      "text/plain": [
       "<PIL.Image.Image image mode=RGB size=300x200 at 0x7FB591D54160>"
      ]
     },
     "execution_count": 190,
     "metadata": {},
     "output_type": "execute_result"
    }
   ],
   "source": [
    "drawing_img"
   ]
  },
  {
   "cell_type": "code",
   "execution_count": 231,
   "metadata": {},
   "outputs": [],
   "source": [
    "(d, rs) = get_drawing('test-images/test1.png')"
   ]
  },
  {
   "cell_type": "code",
   "execution_count": 232,
   "metadata": {},
   "outputs": [],
   "source": [
    "c_rs = fetch_regions('test1.png')"
   ]
  },
  {
   "cell_type": "code",
   "execution_count": 233,
   "metadata": {},
   "outputs": [
    {
     "data": {
      "text/plain": [
       "[{'Color': '100,220,100', 'ImageName': 'test1.png', 'Region': Decimal('0')}]"
      ]
     },
     "execution_count": 233,
     "metadata": {},
     "output_type": "execute_result"
    }
   ],
   "source": [
    "c_rs['Items']"
   ]
  },
  {
   "cell_type": "code",
   "execution_count": 237,
   "metadata": {},
   "outputs": [],
   "source": [
    "fill_regions(d, rs, c_rs['Items'])"
   ]
  },
  {
   "cell_type": "code",
   "execution_count": 285,
   "metadata": {},
   "outputs": [],
   "source": [
    "def build_colored_drawing(image_folder, image_name):\n",
    "    image_path = os.path.join(image_folder, image_name)\n",
    "    \n",
    "    (drawing, regions) = get_drawing(image_path)\n",
    "    \n",
    "    coloring = fetch_regions(image_name)\n",
    "    \n",
    "    fill_regions(drawing, regions, coloring['Items'])\n",
    "    \n",
    "    fg = Image.open(image_path)\n",
    "    \n",
    "    (bg_r, bg_g, bg_b) = drawing.split()\n",
    "    # Should just start with alpha layer... too lazy.\n",
    "    bg = Image.merge('RGBA', (r,g,b,Image.new('L', d.size, color=255)))\n",
    "    \n",
    "    bg.paste(fg, (0,0), fg)\n",
    "    \n",
    "    return bg"
   ]
  },
  {
   "cell_type": "code",
   "execution_count": 290,
   "metadata": {},
   "outputs": [
    {
     "data": {
      "image/png": "[encoded data removed]",
      "text/plain": [
       "<PIL.Image.Image image mode=RGBA size=300x200 at 0x7FB591115CC0>"
      ]
     },
     "execution_count": 290,
     "metadata": {},
     "output_type": "execute_result"
    }
   ],
   "source": [
    "d = build_colored_drawing('test-images', 'test1.png'); d"
   ]
  },
  {
   "cell_type": "code",
   "execution_count": 271,
   "metadata": {},
   "outputs": [],
   "source": [
    "(r,g,b) = d.split()"
   ]
  },
  {
   "cell_type": "code",
   "execution_count": 282,
   "metadata": {},
   "outputs": [
    {
     "data": {
      "image/png": "[encoded data removed]",
      "text/plain": [
       "<PIL.Image.Image image mode=RGBA size=300x200 at 0x7FB5911186D8>"
      ]
     },
     "execution_count": 282,
     "metadata": {},
     "output_type": "execute_result"
    }
   ],
   "source": [
    "bg = Image.merge('RGBA', (r,g,b,Image.new('L', d.size, color=255)));bg"
   ]
  },
  {
   "cell_type": "code",
   "execution_count": 283,
   "metadata": {},
   "outputs": [],
   "source": [
    "fg = Image.open('test-images/test1.png')"
   ]
  },
  {
   "cell_type": "code",
   "execution_count": 280,
   "metadata": {},
   "outputs": [
    {
     "data": {
      "image/png": "[encoded data removed]",
      "text/plain": [
       "<PIL.Image.Image image mode=L size=300x200 at 0x7FB5911186A0>"
      ]
     },
     "execution_count": 280,
     "metadata": {},
     "output_type": "execute_result"
    }
   ],
   "source": [
    "(_,_,_,fg_alpha) = fg.split(); fg_alpha"
   ]
  },
  {
   "cell_type": "code",
   "execution_count": 284,
   "metadata": {},
   "outputs": [
    {
     "data": {
      "image/png": "[encoded data removed]",
      "text/plain": [
       "<PIL.Image.Image image mode=RGBA size=300x200 at 0x7FB5911186D8>"
      ]
     },
     "execution_count": 284,
     "metadata": {},
     "output_type": "execute_result"
    }
   ],
   "source": [
    "bg.paste(fg, (0,0), fg); bg"
   ]
  },
  {
   "cell_type": "code",
   "execution_count": null,
   "metadata": {},
   "outputs": [],
   "source": []
  }
 ],
 "metadata": {
  "kernelspec": {
   "display_name": "Python 3",
   "language": "python",
   "name": "python3"
  },
  "language_info": {
   "codemirror_mode": {
    "name": "ipython",
    "version": 3
   },
   "file_extension": ".py",
   "mimetype": "text/x-python",
   "name": "python",
   "nbconvert_exporter": "python",
   "pygments_lexer": "ipython3",
   "version": "3.4.3"
  }
 },
 "nbformat": 4,
 "nbformat_minor": 2
}
